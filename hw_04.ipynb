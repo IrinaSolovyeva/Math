{
 "cells": [
  {
   "cell_type": "markdown",
   "metadata": {
    "id": "BtMkTMxui6Ut"
   },
   "source": [
    "## Задача 1\n",
    "\n",
    "Случайная непрерывная величина A имеет равномерное распределение на промежутке (200, 800].\n",
    "\n",
    "Найдите ее среднее значение и дисперсию."
   ]
  },
  {
   "cell_type": "markdown",
   "metadata": {},
   "source": [
    "$$M(X) = \\frac{a + b}{2}$$\n",
    "\n",
    "$$D(X) = \\frac{(b - a)^2}{12}$$"
   ]
  },
  {
   "cell_type": "code",
   "execution_count": 1,
   "metadata": {},
   "outputs": [],
   "source": [
    "a = 200\n",
    "b = 800"
   ]
  },
  {
   "cell_type": "code",
   "execution_count": 2,
   "metadata": {},
   "outputs": [
    {
     "name": "stdout",
     "output_type": "stream",
     "text": [
      "Среднее значение = 500.0, Дисперсия = 30000.0\n"
     ]
    }
   ],
   "source": [
    "M = (a + b) / 2\n",
    "D = (b - a) ** 2 / 12\n",
    "print(f'Среднее значение = {M}, Дисперсия = {D}')"
   ]
  },
  {
   "cell_type": "markdown",
   "metadata": {},
   "source": [
    "## Задача 2\n",
    "\n",
    "О случайной непрерывной равномерно распределенной величине B известно, что ее дисперсия равна 0.2.\n",
    "\n",
    "Можно ли найти правую границу величины B и ее среднее значение зная, что левая граница равна 0.5?\n",
    "\n",
    "Если да, найдите ее.\n",
    "$$M(X) = \\frac{0.5 + b}{2}$$\n",
    "\n",
    "$$0.2 = \\frac{(b - 0.5)^2}{12}$$"
   ]
  },
  {
   "cell_type": "code",
   "execution_count": 3,
   "metadata": {},
   "outputs": [],
   "source": [
    "from scipy.optimize import fsolve\n",
    "import math"
   ]
  },
  {
   "cell_type": "code",
   "execution_count": 4,
   "metadata": {},
   "outputs": [],
   "source": [
    "a = 0.5\n",
    "D = 0.2"
   ]
  },
  {
   "cell_type": "code",
   "execution_count": 5,
   "metadata": {},
   "outputs": [
    {
     "name": "stdout",
     "output_type": "stream",
     "text": [
      "Среднее значение = 1.275, Правая граница = 2.049\n"
     ]
    }
   ],
   "source": [
    "def equations(p):\n",
    "    M, b = p\n",
    "    return (2 * M - 0.5 - b, b ** 2 - 2 * b * a + a ** 2 - 12 * D)\n",
    "\n",
    "M, b =  fsolve(equations, (1, 1))\n",
    "print (f'Среднее значение = {M:0.3f}, Правая граница = {b:0.3f}')"
   ]
  },
  {
   "cell_type": "markdown",
   "metadata": {},
   "source": [
    "## Задача 3\n",
    "\n",
    " Непрерывная случайная величина X распределена нормально и задана плотностью распределения\n",
    "f(x) = (1 / (4 * sqrt(2*pi))) * (exp(-(x+2)^2) / 32).\n",
    "Найдите:\n",
    "\n",
    "а). M(X)\n",
    "\n",
    "б). D(X)\n",
    "\n",
    "в). std(X) (среднее квадратичное отклонение)"
   ]
  },
  {
   "cell_type": "markdown",
   "metadata": {},
   "source": [
    "$$f(x) = \\dfrac{1}{\\sqrt{2 \\pi \\sigma^2}} \\cdot \\exp \\left(- \\frac{(x - \\mu)^2}{2 \\sigma^2} \\right)$$"
   ]
  },
  {
   "cell_type": "markdown",
   "metadata": {},
   "source": [
    "$$f(x) = \\dfrac{1}{4\\cdot\\sqrt{2 \\pi }} \\cdot \\exp \\left(- \\frac{(x + 2)^2}{32} \\right)$$"
   ]
  },
  {
   "cell_type": "markdown",
   "metadata": {},
   "source": [
    "а). M(X) = -2\n",
    "\n",
    "б). D(X) = 16\n",
    "\n",
    "в). std(X) = 4"
   ]
  },
  {
   "cell_type": "markdown",
   "metadata": {},
   "source": [
    "## Задача 4\n",
    "\n",
    "Рост взрослого населения города X имеет нормальное распределение.\n",
    "Причем, средний рост равен 174 см, а среднее квадратичное отклонение равно 8 см.\n",
    "Какова вероятность того, что случайным образом выбранный взрослый человек имеет рост:\n",
    "\n",
    "а). больше 182 см\n",
    "\n",
    "б). больше 190 см\n",
    "\n",
    "в). от 166 см до 190 см\n",
    "\n",
    "г). от 166 см до 182 см\n",
    "\n",
    "д). от 158 см до 190 см\n",
    "\n",
    "е). не выше 150 см или не ниже 190 см\n",
    "\n",
    "ё). не выше 150 см или не ниже 198 см\n",
    "\n",
    "ж). ниже 166 см."
   ]
  },
  {
   "cell_type": "code",
   "execution_count": 6,
   "metadata": {},
   "outputs": [],
   "source": [
    "from scipy import stats\n",
    "import pandas as pd"
   ]
  },
  {
   "cell_type": "code",
   "execution_count": 7,
   "metadata": {},
   "outputs": [],
   "source": [
    "M = 174\n",
    "std = 8"
   ]
  },
  {
   "cell_type": "code",
   "execution_count": 8,
   "metadata": {},
   "outputs": [],
   "source": [
    "norm = stats.norm(loc = M, scale = std)"
   ]
  },
  {
   "cell_type": "code",
   "execution_count": 9,
   "metadata": {},
   "outputs": [],
   "source": [
    "letters = ['а', 'б', 'в', 'г', 'д', 'е', 'ё', 'ж']"
   ]
  },
  {
   "cell_type": "code",
   "execution_count": 10,
   "metadata": {},
   "outputs": [],
   "source": [
    "solve = [norm.sf(182), \n",
    "         norm.sf(190), \n",
    "         norm.cdf(190) - norm.cdf(166), \n",
    "         norm.cdf(182) - norm.cdf(166), \n",
    "         norm.cdf(190) - norm.cdf(158), \n",
    "        norm.cdf(150) + norm.sf(190),\n",
    "        norm.cdf(150) + norm.sf(198),\n",
    "        norm.cdf(166)]"
   ]
  },
  {
   "cell_type": "code",
   "execution_count": 11,
   "metadata": {},
   "outputs": [
    {
     "data": {
      "text/html": [
       "<div>\n",
       "<style scoped>\n",
       "    .dataframe tbody tr th:only-of-type {\n",
       "        vertical-align: middle;\n",
       "    }\n",
       "\n",
       "    .dataframe tbody tr th {\n",
       "        vertical-align: top;\n",
       "    }\n",
       "\n",
       "    .dataframe thead th {\n",
       "        text-align: right;\n",
       "    }\n",
       "</style>\n",
       "<table border=\"1\" class=\"dataframe\">\n",
       "  <thead>\n",
       "    <tr style=\"text-align: right;\">\n",
       "      <th></th>\n",
       "      <th>буква</th>\n",
       "      <th>вероятность</th>\n",
       "    </tr>\n",
       "  </thead>\n",
       "  <tbody>\n",
       "    <tr>\n",
       "      <th>0</th>\n",
       "      <td>а</td>\n",
       "      <td>0.158655</td>\n",
       "    </tr>\n",
       "    <tr>\n",
       "      <th>1</th>\n",
       "      <td>б</td>\n",
       "      <td>0.022750</td>\n",
       "    </tr>\n",
       "    <tr>\n",
       "      <th>2</th>\n",
       "      <td>в</td>\n",
       "      <td>0.818595</td>\n",
       "    </tr>\n",
       "    <tr>\n",
       "      <th>3</th>\n",
       "      <td>г</td>\n",
       "      <td>0.682689</td>\n",
       "    </tr>\n",
       "    <tr>\n",
       "      <th>4</th>\n",
       "      <td>д</td>\n",
       "      <td>0.954500</td>\n",
       "    </tr>\n",
       "    <tr>\n",
       "      <th>5</th>\n",
       "      <td>е</td>\n",
       "      <td>0.024100</td>\n",
       "    </tr>\n",
       "    <tr>\n",
       "      <th>6</th>\n",
       "      <td>ё</td>\n",
       "      <td>0.002700</td>\n",
       "    </tr>\n",
       "    <tr>\n",
       "      <th>7</th>\n",
       "      <td>ж</td>\n",
       "      <td>0.158655</td>\n",
       "    </tr>\n",
       "  </tbody>\n",
       "</table>\n",
       "</div>"
      ],
      "text/plain": [
       "  буква  вероятность\n",
       "0     а     0.158655\n",
       "1     б     0.022750\n",
       "2     в     0.818595\n",
       "3     г     0.682689\n",
       "4     д     0.954500\n",
       "5     е     0.024100\n",
       "6     ё     0.002700\n",
       "7     ж     0.158655"
      ]
     },
     "execution_count": 11,
     "metadata": {},
     "output_type": "execute_result"
    }
   ],
   "source": [
    "z = pd.DataFrame({'буква': letters, 'вероятность': solve})\n",
    "z.head(10)"
   ]
  },
  {
   "cell_type": "markdown",
   "metadata": {},
   "source": [
    "## Задача 5\n",
    "\n",
    "На сколько сигм (средних квадратичных отклонений) отклоняется рост человека, равный 190 см, от\n",
    "математического ожидания роста в популяции, в которой M(X) = 178 см и D(X) = 25 кв.см?"
   ]
  },
  {
   "cell_type": "markdown",
   "metadata": {},
   "source": [
    "$$ \\frac{X - M(X)}{\\sigma}$$"
   ]
  },
  {
   "cell_type": "code",
   "execution_count": 12,
   "metadata": {},
   "outputs": [
    {
     "name": "stdout",
     "output_type": "stream",
     "text": [
      "Рост человека отклоняется на 2.4 сигм\n"
     ]
    }
   ],
   "source": [
    "print (f'Рост человека отклоняется на {(190-178)/5} сигм')"
   ]
  },
  {
   "cell_type": "code",
   "execution_count": null,
   "metadata": {},
   "outputs": [],
   "source": []
  }
 ],
 "metadata": {
  "colab": {
   "name": "practice4.ipynb",
   "provenance": []
  },
  "kernelspec": {
   "display_name": "Python 3",
   "language": "python",
   "name": "python3"
  },
  "language_info": {
   "codemirror_mode": {
    "name": "ipython",
    "version": 3
   },
   "file_extension": ".py",
   "mimetype": "text/x-python",
   "name": "python",
   "nbconvert_exporter": "python",
   "pygments_lexer": "ipython3",
   "version": "3.8.5"
  }
 },
 "nbformat": 4,
 "nbformat_minor": 1
}
