{
 "cells": [
  {
   "cell_type": "code",
   "execution_count": 50,
   "metadata": {
    "execution": {
     "iopub.execute_input": "2021-02-13T12:53:41.557327Z",
     "iopub.status.busy": "2021-02-13T12:53:41.556201Z",
     "iopub.status.idle": "2021-02-13T12:53:41.689645Z",
     "shell.execute_reply": "2021-02-13T12:53:41.691146Z"
    },
    "id": "d_HTXnzxAXGa"
   },
   "outputs": [],
   "source": [
    "import numpy as np"
   ]
  },
  {
   "cell_type": "code",
   "execution_count": 51,
   "metadata": {},
   "outputs": [],
   "source": [
    "def combinations(n, k):\n",
    "    return np.math.factorial(n) // (np.math.factorial(k) * np.math.factorial(n - k))"
   ]
  },
  {
   "cell_type": "markdown",
   "metadata": {
    "execution": {
     "iopub.execute_input": "2021-02-13T12:53:41.708714Z",
     "iopub.status.busy": "2021-02-13T12:53:41.707421Z",
     "iopub.status.idle": "2021-02-13T12:53:41.711776Z",
     "shell.execute_reply": "2021-02-13T12:53:41.713314Z"
    },
    "id": "Etis_imbAXGb",
    "outputId": "384083c1-4485-4e29-bc00-f133d445a8f5"
   },
   "source": [
    "## Задачи 1 и 2\n",
    "\n",
    "Контрольная работа состоит из пяти вопросов. На каждый вопрос приведено четыре варианта ответа, один из которых правильный. Случайная величина X задаёт число правильных ответов при простом угадывании. Найдите математическое ожидание данной случайной величины. Найдите дисперсию случайной величины X.\n",
    "\n",
    "Подсказка: постройте закон распределения случайной величины X."
   ]
  },
  {
   "cell_type": "markdown",
   "metadata": {
    "id": "E9YLUIGfAXGp"
   },
   "source": [
    "Формула Бернулли: $$P(X = k) = C_n^k p^k (1 - p)^{n - k}, n = 5, p = \\frac{1}{4} $$"
   ]
  },
  {
   "cell_type": "markdown",
   "metadata": {
    "id": "Fu-0aZgdAXGq"
   },
   "source": [
    "$x_1 = 0$, $x_2 = 1$, $x_3 = 2$, $x_4 = 3$, $x_5 = 4$, $x_6 = 5$."
   ]
  },
  {
   "cell_type": "markdown",
   "metadata": {
    "id": "9OkXTvSTAXGq"
   },
   "source": [
    "Посчитаем вероятность каждого значения:\n",
    "$$P(X = 0) = C_5^0 \\cdot (\\frac{1}{4})^0 \\cdot (\\frac{3}{4})^5$$\n",
    "$$P(X = 1) = C_5^1 \\cdot (\\frac{1}{4})^1 \\cdot (\\frac{3}{4})^4$$\n",
    "$$P(X = 2) = C_5^2 \\cdot (\\frac{1}{4})^2 \\cdot (\\frac{3}{4})^3$$\n",
    "$$P(X = 3) = C_5^3 \\cdot (\\frac{1}{4})^3 \\cdot (\\frac{3}{4})^2$$\n",
    "$$P(X = 4) = C_5^4 \\cdot (\\frac{1}{4})^4 \\cdot (\\frac{3}{4})^1$$\n",
    "$$P(X = 5) = C_5^5 \\cdot (\\frac{1}{4})^5 \\cdot (\\frac{3}{4})^0$$"
   ]
  },
  {
   "cell_type": "code",
   "execution_count": 52,
   "metadata": {},
   "outputs": [],
   "source": [
    "n = 5\n",
    "p = 1/4"
   ]
  },
  {
   "cell_type": "code",
   "execution_count": 53,
   "metadata": {},
   "outputs": [
    {
     "data": {
      "text/plain": [
       "array([0.23730469, 0.39550781, 0.26367188, 0.08789062, 0.01464844,\n",
       "       0.00097656])"
      ]
     },
     "execution_count": 53,
     "metadata": {},
     "output_type": "execute_result"
    }
   ],
   "source": [
    "P = np.array([combinations(5, k) * (p ** k) * ((1 - p) ** (5 - k)) for k in range(6)])\n",
    "P"
   ]
  },
  {
   "cell_type": "markdown",
   "metadata": {
    "id": "GgMpJp2TAXGr"
   },
   "source": [
    "Математическое ожидание:\n",
    "$$M(X) = n \\cdot p$$"
   ]
  },
  {
   "cell_type": "code",
   "execution_count": 54,
   "metadata": {},
   "outputs": [
    {
     "data": {
      "text/plain": [
       "1.25"
      ]
     },
     "execution_count": 54,
     "metadata": {},
     "output_type": "execute_result"
    }
   ],
   "source": [
    "M = n * p\n",
    "M"
   ]
  },
  {
   "cell_type": "markdown",
   "metadata": {},
   "source": [
    "Дисперсия такой величины:\n",
    "$$D(X) = n \\cdot p \\cdot (1 - p)$$"
   ]
  },
  {
   "cell_type": "code",
   "execution_count": 55,
   "metadata": {},
   "outputs": [
    {
     "data": {
      "text/plain": [
       "0.9375"
      ]
     },
     "execution_count": 55,
     "metadata": {},
     "output_type": "execute_result"
    }
   ],
   "source": [
    "D = n * p * (1 - p)\n",
    "D"
   ]
  },
  {
   "cell_type": "markdown",
   "metadata": {},
   "source": [
    "## Задача 3\n",
    "\n",
    "Пользователь получает в среднем 10 писем со спамом на свой почтовый ящик за сутки. Найти число N, такое, что с вероятностью 0.95 пользователь получит не более N писем со спамом за текущий день."
   ]
  },
  {
   "cell_type": "markdown",
   "metadata": {},
   "source": [
    "Формула Пуассона:\n",
    "$$P(X = k) = \\dfrac{\\lambda^k e^{-\\lambda}}{k!}$$"
   ]
  },
  {
   "cell_type": "markdown",
   "metadata": {},
   "source": [
    "Необходимо найти N такое, чтобы:\n",
    "$$P(X \\leq N) = \\displaystyle\\sum_{i = 0}^{N} \\dfrac{10^{i} e^{-10}}{i!} \\leq 0.95$$"
   ]
  },
  {
   "cell_type": "code",
   "execution_count": 56,
   "metadata": {},
   "outputs": [],
   "source": [
    "def poisson_proba(k: int, lambda_: float) -> float:\n",
    "    \"\"\"Формула Пуассона.\n",
    "    \"\"\"\n",
    "    \n",
    "    return (lambda_ ** k) * (np.exp(-lambda_)) / np.math.factorial(k)"
   ]
  },
  {
   "cell_type": "code",
   "execution_count": 57,
   "metadata": {},
   "outputs": [
    {
     "name": "stdout",
     "output_type": "stream",
     "text": [
      "k = 15, PX = 0.951214196766259\n"
     ]
    }
   ],
   "source": [
    "lambda_ = 10\n",
    "p = 0.95\n",
    "k = 1\n",
    "PX = poisson_proba(k, lambda_)\n",
    "\n",
    "while PX <= p:\n",
    "    k += 1\n",
    "    PX += poisson_proba(k, lambda_)\n",
    "else:\n",
    "    print(f'k = {k}, PX = {PX}')"
   ]
  },
  {
   "cell_type": "markdown",
   "metadata": {},
   "source": [
    "## Задача 4\n",
    "\n",
    "Производятся выстрелы по мишени. Вероятность попадания в мишень при одном выстреле равна 0.01. Сколько выстрелов нужно сделать чтобы быть уверенным с вероятностью 0.9, что хотя бы 6 раз будет совершено попадание?\n",
    "\n",
    "Подсказка: 1) \"Вероятность попасть k раз при n выстрелах\" - на какое распределение это похоже? 2) А если нам нужна вероятность P(X >= k), а не P(X = k)? 3) Здесь предстоит немножко покодить."
   ]
  },
  {
   "cell_type": "markdown",
   "metadata": {},
   "source": [
    "Распределение Бернулли: $$P(X \\geq 6) = 1 - P(X < 6)$$\n",
    "\n",
    "Формула Бернулли: $$P(X = k) = C_n^k p^k (1 - p)^{n - k}$$"
   ]
  },
  {
   "cell_type": "code",
   "execution_count": 58,
   "metadata": {
    "id": "DTo80YC_AXGt"
   },
   "outputs": [],
   "source": [
    "def bernoulli(k, n, p):\n",
    "    return combinations(n, k) * p**k * (1 - p)**(n-k) "
   ]
  },
  {
   "cell_type": "code",
   "execution_count": 60,
   "metadata": {},
   "outputs": [
    {
     "name": "stdout",
     "output_type": "stream",
     "text": [
      "n = 926, PX = 0.9003627121531355\n"
     ]
    }
   ],
   "source": [
    "p = 0.01\n",
    "k = 6\n",
    "n = 6\n",
    "PX = 1 - sum(bernoulli(i, n, p) for i in range(k))\n",
    "\n",
    "while PX < 0.9:\n",
    "    n += 1\n",
    "    PX = 1 - sum(bernoulli(i, n, p) for i in range(k))\n",
    "else:\n",
    "    print(f'n = {n}, PX = {PX}')"
   ]
  }
 ],
 "metadata": {
  "colab": {
   "name": "practice2.ipynb",
   "provenance": []
  },
  "kernelspec": {
   "display_name": "Python 3",
   "language": "python",
   "name": "python3"
  },
  "language_info": {
   "codemirror_mode": {
    "name": "ipython",
    "version": 3
   },
   "file_extension": ".py",
   "mimetype": "text/x-python",
   "name": "python",
   "nbconvert_exporter": "python",
   "pygments_lexer": "ipython3",
   "version": "3.8.5"
  }
 },
 "nbformat": 4,
 "nbformat_minor": 1
}
